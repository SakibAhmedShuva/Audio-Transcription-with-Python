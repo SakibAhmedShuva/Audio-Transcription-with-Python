{
 "cells": [
  {
   "cell_type": "code",
   "execution_count": null,
   "metadata": {},
   "outputs": [],
   "source": [
    "from transformers import pipeline\n",
    "import librosa"
   ]
  },
  {
   "cell_type": "code",
   "execution_count": null,
   "metadata": {},
   "outputs": [],
   "source": [
    "class AudioTranscriber:\n",
    "    def __init__(self):\n",
    "        self.transcriber = pipeline(\"automatic-speech-recognition\", model=\"openai/whisper-tiny\", return_timestamps=True)\n",
    "\n",
    "    def transcribe(self, audio_path):\n",
    "        # Load audio with standard sample rate\n",
    "        y, sr = librosa.load(audio_path, sr=16000)\n",
    "        \n",
    "        # Get transcription\n",
    "        result = self.transcriber({\"array\": y, \"sampling_rate\": sr})\n",
    "        \n",
    "        return result[\"text\"]\n",
    "\n",
    "# Usage example:\n",
    "transcriber = AudioTranscriber()\n",
    "text = transcriber.transcribe(r\"Audio.wav\")\n",
    "print(text)"
   ]
  }
 ],
 "metadata": {
  "language_info": {
   "name": "python"
  }
 },
 "nbformat": 4,
 "nbformat_minor": 2
}
